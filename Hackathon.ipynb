{
 "cells": [
  {
   "cell_type": "code",
   "execution_count": 47,
   "id": "07518b30",
   "metadata": {},
   "outputs": [],
   "source": [
    "#importing the required libraries\n",
    "import pandas as pd\n",
    "import numpy as np\n",
    "import matplotlib.pyplot as plt\n",
    "%matplotlib inline"
   ]
  },
  {
   "cell_type": "code",
   "execution_count": 50,
   "id": "25867197",
   "metadata": {},
   "outputs": [],
   "source": [
    "#reading the dataset\n",
    "df = pd.read_csv('C:/Users/user/Downloads/dataframe_.csv')"
   ]
  },
  {
   "cell_type": "code",
   "execution_count": 3,
   "id": "d3f321a1",
   "metadata": {},
   "outputs": [
    {
     "data": {
      "text/plain": [
       "pandas.core.frame.DataFrame"
      ]
     },
     "execution_count": 3,
     "metadata": {},
     "output_type": "execute_result"
    }
   ],
   "source": [
    "type(df)"
   ]
  },
  {
   "cell_type": "code",
   "execution_count": 4,
   "id": "ebd365b3",
   "metadata": {},
   "outputs": [
    {
     "data": {
      "text/html": [
       "<div>\n",
       "<style scoped>\n",
       "    .dataframe tbody tr th:only-of-type {\n",
       "        vertical-align: middle;\n",
       "    }\n",
       "\n",
       "    .dataframe tbody tr th {\n",
       "        vertical-align: top;\n",
       "    }\n",
       "\n",
       "    .dataframe thead th {\n",
       "        text-align: right;\n",
       "    }\n",
       "</style>\n",
       "<table border=\"1\" class=\"dataframe\">\n",
       "  <thead>\n",
       "    <tr style=\"text-align: right;\">\n",
       "      <th></th>\n",
       "      <th>input</th>\n",
       "      <th>output</th>\n",
       "    </tr>\n",
       "  </thead>\n",
       "  <tbody>\n",
       "    <tr>\n",
       "      <th>0</th>\n",
       "      <td>-122.740667</td>\n",
       "      <td>-130.572085</td>\n",
       "    </tr>\n",
       "    <tr>\n",
       "      <th>1</th>\n",
       "      <td>-121.531419</td>\n",
       "      <td>-129.938929</td>\n",
       "    </tr>\n",
       "    <tr>\n",
       "      <th>2</th>\n",
       "      <td>-134.917019</td>\n",
       "      <td>-130.141832</td>\n",
       "    </tr>\n",
       "    <tr>\n",
       "      <th>3</th>\n",
       "      <td>-120.605951</td>\n",
       "      <td>-125.760932</td>\n",
       "    </tr>\n",
       "    <tr>\n",
       "      <th>4</th>\n",
       "      <td>-129.894781</td>\n",
       "      <td>-112.785214</td>\n",
       "    </tr>\n",
       "  </tbody>\n",
       "</table>\n",
       "</div>"
      ],
      "text/plain": [
       "        input      output\n",
       "0 -122.740667 -130.572085\n",
       "1 -121.531419 -129.938929\n",
       "2 -134.917019 -130.141832\n",
       "3 -120.605951 -125.760932\n",
       "4 -129.894781 -112.785214"
      ]
     },
     "execution_count": 4,
     "metadata": {},
     "output_type": "execute_result"
    }
   ],
   "source": [
    "#viewing the first five rows using head\n",
    "df.head()"
   ]
  },
  {
   "cell_type": "code",
   "execution_count": 6,
   "id": "aa55d3f4",
   "metadata": {},
   "outputs": [
    {
     "data": {
      "text/plain": [
       "input     1\n",
       "output    1\n",
       "dtype: int64"
      ]
     },
     "execution_count": 6,
     "metadata": {},
     "output_type": "execute_result"
    }
   ],
   "source": [
    "#checking null values\n",
    "df.isnull().sum()"
   ]
  },
  {
   "cell_type": "code",
   "execution_count": 7,
   "id": "5ef9b3ce",
   "metadata": {},
   "outputs": [],
   "source": [
    "#drop the null values\n",
    "df = df.dropna(how=\"any\")"
   ]
  },
  {
   "cell_type": "code",
   "execution_count": 8,
   "id": "8d479807",
   "metadata": {},
   "outputs": [
    {
     "data": {
      "text/html": [
       "<div>\n",
       "<style scoped>\n",
       "    .dataframe tbody tr th:only-of-type {\n",
       "        vertical-align: middle;\n",
       "    }\n",
       "\n",
       "    .dataframe tbody tr th {\n",
       "        vertical-align: top;\n",
       "    }\n",
       "\n",
       "    .dataframe thead th {\n",
       "        text-align: right;\n",
       "    }\n",
       "</style>\n",
       "<table border=\"1\" class=\"dataframe\">\n",
       "  <thead>\n",
       "    <tr style=\"text-align: right;\">\n",
       "      <th></th>\n",
       "      <th>input</th>\n",
       "      <th>output</th>\n",
       "    </tr>\n",
       "  </thead>\n",
       "  <tbody>\n",
       "    <tr>\n",
       "      <th>0</th>\n",
       "      <td>-122.740667</td>\n",
       "      <td>-130.572085</td>\n",
       "    </tr>\n",
       "    <tr>\n",
       "      <th>1</th>\n",
       "      <td>-121.531419</td>\n",
       "      <td>-129.938929</td>\n",
       "    </tr>\n",
       "    <tr>\n",
       "      <th>2</th>\n",
       "      <td>-134.917019</td>\n",
       "      <td>-130.141832</td>\n",
       "    </tr>\n",
       "    <tr>\n",
       "      <th>3</th>\n",
       "      <td>-120.605951</td>\n",
       "      <td>-125.760932</td>\n",
       "    </tr>\n",
       "    <tr>\n",
       "      <th>4</th>\n",
       "      <td>-129.894781</td>\n",
       "      <td>-112.785214</td>\n",
       "    </tr>\n",
       "  </tbody>\n",
       "</table>\n",
       "</div>"
      ],
      "text/plain": [
       "        input      output\n",
       "0 -122.740667 -130.572085\n",
       "1 -121.531419 -129.938929\n",
       "2 -134.917019 -130.141832\n",
       "3 -120.605951 -125.760932\n",
       "4 -129.894781 -112.785214"
      ]
     },
     "execution_count": 8,
     "metadata": {},
     "output_type": "execute_result"
    }
   ],
   "source": [
    "df.head()"
   ]
  },
  {
   "cell_type": "code",
   "execution_count": 9,
   "id": "f2963486",
   "metadata": {},
   "outputs": [
    {
     "data": {
      "text/plain": [
       "input     float64\n",
       "output    float64\n",
       "dtype: object"
      ]
     },
     "execution_count": 9,
     "metadata": {},
     "output_type": "execute_result"
    }
   ],
   "source": [
    "df.dtypes"
   ]
  },
  {
   "cell_type": "code",
   "execution_count": 10,
   "id": "45cd35c2",
   "metadata": {},
   "outputs": [
    {
     "name": "stdout",
     "output_type": "stream",
     "text": [
      "0       False\n",
      "1       False\n",
      "2       False\n",
      "3       False\n",
      "4       False\n",
      "        ...  \n",
      "1692     True\n",
      "1693     True\n",
      "1694     True\n",
      "1695     True\n",
      "1696     True\n",
      "Length: 1696, dtype: bool\n"
     ]
    }
   ],
   "source": [
    "#checking duplicates\n",
    "print(df.duplicated())"
   ]
  },
  {
   "cell_type": "code",
   "execution_count": 11,
   "id": "ea0d91fd",
   "metadata": {},
   "outputs": [],
   "source": [
    "#removing duplicates\n",
    "df.drop_duplicates(inplace=True)"
   ]
  },
  {
   "cell_type": "code",
   "execution_count": 12,
   "id": "72449b66",
   "metadata": {},
   "outputs": [
    {
     "name": "stdout",
     "output_type": "stream",
     "text": [
      "0       False\n",
      "1       False\n",
      "2       False\n",
      "3       False\n",
      "4       False\n",
      "        ...  \n",
      "1105    False\n",
      "1107    False\n",
      "1108    False\n",
      "1109    False\n",
      "1110    False\n",
      "Length: 1090, dtype: bool\n"
     ]
    }
   ],
   "source": [
    "print(df.duplicated())"
   ]
  },
  {
   "cell_type": "code",
   "execution_count": 13,
   "id": "b546603a",
   "metadata": {},
   "outputs": [
    {
     "data": {
      "text/html": [
       "<div>\n",
       "<style scoped>\n",
       "    .dataframe tbody tr th:only-of-type {\n",
       "        vertical-align: middle;\n",
       "    }\n",
       "\n",
       "    .dataframe tbody tr th {\n",
       "        vertical-align: top;\n",
       "    }\n",
       "\n",
       "    .dataframe thead th {\n",
       "        text-align: right;\n",
       "    }\n",
       "</style>\n",
       "<table border=\"1\" class=\"dataframe\">\n",
       "  <thead>\n",
       "    <tr style=\"text-align: right;\">\n",
       "      <th></th>\n",
       "      <th>input</th>\n",
       "      <th>output</th>\n",
       "    </tr>\n",
       "  </thead>\n",
       "  <tbody>\n",
       "    <tr>\n",
       "      <th>count</th>\n",
       "      <td>1090.000000</td>\n",
       "      <td>1090.000000</td>\n",
       "    </tr>\n",
       "    <tr>\n",
       "      <th>mean</th>\n",
       "      <td>8.116185</td>\n",
       "      <td>-27.383628</td>\n",
       "    </tr>\n",
       "    <tr>\n",
       "      <th>std</th>\n",
       "      <td>78.769201</td>\n",
       "      <td>68.371895</td>\n",
       "    </tr>\n",
       "    <tr>\n",
       "      <th>min</th>\n",
       "      <td>-134.962839</td>\n",
       "      <td>-132.422167</td>\n",
       "    </tr>\n",
       "    <tr>\n",
       "      <th>25%</th>\n",
       "      <td>-51.041357</td>\n",
       "      <td>-76.994298</td>\n",
       "    </tr>\n",
       "    <tr>\n",
       "      <th>50%</th>\n",
       "      <td>17.462087</td>\n",
       "      <td>-46.300938</td>\n",
       "    </tr>\n",
       "    <tr>\n",
       "      <th>75%</th>\n",
       "      <td>76.481078</td>\n",
       "      <td>5.113101</td>\n",
       "    </tr>\n",
       "    <tr>\n",
       "      <th>max</th>\n",
       "      <td>134.605775</td>\n",
       "      <td>134.425495</td>\n",
       "    </tr>\n",
       "  </tbody>\n",
       "</table>\n",
       "</div>"
      ],
      "text/plain": [
       "             input       output\n",
       "count  1090.000000  1090.000000\n",
       "mean      8.116185   -27.383628\n",
       "std      78.769201    68.371895\n",
       "min    -134.962839  -132.422167\n",
       "25%     -51.041357   -76.994298\n",
       "50%      17.462087   -46.300938\n",
       "75%      76.481078     5.113101\n",
       "max     134.605775   134.425495"
      ]
     },
     "execution_count": 13,
     "metadata": {},
     "output_type": "execute_result"
    }
   ],
   "source": [
    "#summary statistics\n",
    "df.describe()"
   ]
  },
  {
   "cell_type": "code",
   "execution_count": 14,
   "id": "c6bcb656",
   "metadata": {},
   "outputs": [],
   "source": [
    "X = df['input']"
   ]
  },
  {
   "cell_type": "code",
   "execution_count": 15,
   "id": "8fece9c1",
   "metadata": {},
   "outputs": [
    {
     "data": {
      "text/plain": [
       "0   -122.740667\n",
       "1   -121.531419\n",
       "2   -134.917019\n",
       "3   -120.605951\n",
       "4   -129.894781\n",
       "Name: input, dtype: float64"
      ]
     },
     "execution_count": 15,
     "metadata": {},
     "output_type": "execute_result"
    }
   ],
   "source": [
    "X.head()"
   ]
  },
  {
   "cell_type": "code",
   "execution_count": 16,
   "id": "44fdeadb",
   "metadata": {},
   "outputs": [],
   "source": [
    "y = df.output"
   ]
  },
  {
   "cell_type": "code",
   "execution_count": 17,
   "id": "975d2c42",
   "metadata": {},
   "outputs": [
    {
     "data": {
      "text/plain": [
       "0   -130.572085\n",
       "1   -129.938929\n",
       "2   -130.141832\n",
       "3   -125.760932\n",
       "4   -112.785214\n",
       "Name: output, dtype: float64"
      ]
     },
     "execution_count": 17,
     "metadata": {},
     "output_type": "execute_result"
    }
   ],
   "source": [
    "y.head()"
   ]
  },
  {
   "cell_type": "code",
   "execution_count": 18,
   "id": "877a9665",
   "metadata": {},
   "outputs": [],
   "source": [
    "from sklearn.tree import DecisionTreeRegressor"
   ]
  },
  {
   "cell_type": "code",
   "execution_count": 19,
   "id": "0112b0ab",
   "metadata": {},
   "outputs": [],
   "source": [
    "df = DecisionTreeRegressor(random_state=1)"
   ]
  },
  {
   "cell_type": "code",
   "execution_count": 26,
   "id": "613b359a",
   "metadata": {},
   "outputs": [],
   "source": [
    "X1 = X.values.reshape(-1, 1)"
   ]
  },
  {
   "cell_type": "code",
   "execution_count": 30,
   "id": "b6b09ff6",
   "metadata": {},
   "outputs": [],
   "source": [
    "from sklearn.model_selection import train_test_split\n",
    "X1_train, X1_test, y_train, y_test = train_test_split(X1,y,test_size=0.25,random_state=0)"
   ]
  },
  {
   "cell_type": "code",
   "execution_count": 33,
   "id": "6fd6ca6c",
   "metadata": {},
   "outputs": [],
   "source": [
    "#feature scaling\n",
    "from sklearn.preprocessing import StandardScaler\n",
    "sc_X1 = StandardScaler()\n",
    "X1_train = sc_X1.fit_transform(X1_train)\n",
    "X1_test = sc_X1.transform(X1_test)"
   ]
  },
  {
   "cell_type": "code",
   "execution_count": 39,
   "id": "4ddbd627",
   "metadata": {},
   "outputs": [],
   "source": [
    "#fit the model\n",
    "from sklearn.tree import DecisionTreeRegressor\n",
    "regressor = DecisionTreeRegressor()\n",
    "regressor = regressor.fit(X1_train, y_train)"
   ]
  },
  {
   "cell_type": "code",
   "execution_count": 45,
   "id": "9911f29a",
   "metadata": {},
   "outputs": [
    {
     "name": "stdout",
     "output_type": "stream",
     "text": [
      "[123.6196799  -81.54003728 -81.54003728 123.6196799  123.6196799\n",
      " -81.54003728 -81.54003728 -81.54003728 123.6196799  123.6196799\n",
      " -81.54003728 123.6196799  123.6196799  123.6196799  -81.54003728\n",
      " -81.54003728 -81.54003728 123.6196799  123.6196799  -81.54003728\n",
      " 123.6196799  -18.31251762 123.6196799  123.6196799  123.6196799\n",
      " 123.6196799  -81.54003728 -81.54003728 123.6196799  123.6196799\n",
      " -81.54003728 -81.54003728 123.6196799  -81.54003728 123.6196799\n",
      " 123.6196799  -81.54003728 123.6196799  123.6196799  123.6196799\n",
      " 123.6196799  123.6196799  -81.54003728 -81.54003728 123.6196799\n",
      " -81.54003728 -81.54003728 -81.54003728 123.6196799  -81.54003728\n",
      " 123.6196799  123.6196799  123.6196799  123.6196799  123.6196799\n",
      " 123.6196799  -81.54003728 -81.54003728 -81.54003728 123.6196799\n",
      " 123.6196799  -81.54003728 -81.54003728 123.6196799  -81.54003728\n",
      " 123.6196799  123.6196799  123.6196799  123.6196799  123.6196799\n",
      " -81.54003728 123.6196799  123.6196799  123.6196799  -40.5520681\n",
      " -81.54003728 -81.54003728 -81.54003728 -81.54003728 123.6196799\n",
      " 123.6196799  123.6196799  -81.54003728 123.6196799  -81.54003728\n",
      " -78.         123.6196799  -81.54003728 -81.54003728 123.6196799\n",
      " 123.6196799  -81.54003728 123.6196799  123.6196799  123.6196799\n",
      " 123.6196799  123.6196799  123.6196799  123.6196799  -81.54003728\n",
      " -81.54003728 123.6196799  -81.54003728 123.6196799  123.6196799\n",
      " 123.6196799  -81.54003728 123.6196799  -81.54003728 123.6196799\n",
      " -81.54003728 123.6196799  -81.54003728 123.6196799  123.6196799\n",
      " 123.6196799  123.6196799  123.6196799  123.6196799  123.6196799\n",
      " 123.6196799  123.6196799  -51.17616754 -81.54003728 123.6196799\n",
      " -81.54003728 123.6196799  -81.54003728 123.6196799  123.6196799\n",
      " 123.6196799  123.6196799  123.6196799  -81.54003728 123.6196799\n",
      " -81.54003728 123.6196799  123.6196799  -81.54003728 123.6196799\n",
      " -81.54003728 123.6196799  -81.54003728 -81.54003728 -81.54003728\n",
      " 123.6196799  123.6196799  123.6196799  123.6196799  123.6196799\n",
      " -81.54003728 123.6196799  123.6196799  123.6196799  123.6196799\n",
      " -81.54003728 123.6196799  -81.54003728 123.6196799  123.6196799\n",
      " 123.6196799  123.6196799  -81.54003728 123.6196799  123.6196799\n",
      " -81.54003728 123.6196799  123.6196799  -81.54003728 -81.54003728\n",
      " 123.6196799  123.6196799  -81.54003728 123.6196799  -81.54003728\n",
      " -81.54003728 -81.54003728 -81.54003728 123.6196799  123.6196799\n",
      " -81.54003728 -81.54003728 123.6196799  -81.54003728 123.6196799\n",
      " 123.6196799  123.6196799  123.6196799  123.6196799  123.6196799\n",
      " -81.54003728 -81.54003728 123.6196799  123.6196799  123.6196799\n",
      " 123.6196799  123.6196799  -81.54003728 123.6196799  123.6196799\n",
      " 123.6196799  -81.54003728 -81.54003728 123.6196799  -81.54003728\n",
      " -81.54003728 123.6196799  123.6196799  -81.54003728 -81.54003728\n",
      " -81.54003728 123.6196799  123.6196799  123.6196799  -81.54003728\n",
      " 123.6196799  123.6196799  123.6196799  123.6196799  -81.54003728\n",
      " -51.17616754 -81.54003728 123.6196799  123.6196799  123.6196799\n",
      " -81.54003728 -81.54003728 123.6196799  -81.54003728 -81.54003728\n",
      " -22.93029483 123.6196799  123.6196799  -81.54003728 -81.54003728\n",
      " -81.54003728 123.6196799  123.6196799  -81.54003728 123.6196799\n",
      " -81.54003728 123.6196799  -81.54003728 -81.54003728 -81.54003728\n",
      " 123.6196799  123.6196799  -81.54003728 -81.54003728 -81.54003728\n",
      " -81.54003728 123.6196799  -81.54003728 123.6196799  123.6196799\n",
      " 123.6196799  -81.54003728 -81.54003728 123.6196799  -81.54003728\n",
      " 123.6196799  123.6196799  123.6196799  -81.54003728 -81.54003728\n",
      " 123.6196799  -32.         123.6196799  -81.54003728 -81.54003728\n",
      " -81.54003728 -81.54003728 123.6196799 ]\n"
     ]
    }
   ],
   "source": [
    "#prediction\n",
    "y_pred = regressor.predict(X1_test)\n",
    "print(y_pred)"
   ]
  },
  {
   "cell_type": "code",
   "execution_count": 55,
   "id": "47da1acb",
   "metadata": {},
   "outputs": [],
   "source": [
    "outliers=[]\n",
    "def detect_outliers(data):\n",
    "    \n",
    "    threshold=3\n",
    "    mean = np.mean(data)\n",
    "    std = np.std(data)\n",
    "    \n",
    "    for i in data:\n",
    "        z_score = (i-mean)/std\n",
    "        if np.abs(z_score) > threshold:\n",
    "            outliers.append(y)\n",
    "    return outliers"
   ]
  },
  {
   "cell_type": "code",
   "execution_count": 62,
   "id": "299adbe9",
   "metadata": {},
   "outputs": [],
   "source": [
    "outlier_pt=detect_outliers(X1)"
   ]
  },
  {
   "cell_type": "code",
   "execution_count": 63,
   "id": "d044373f",
   "metadata": {},
   "outputs": [
    {
     "data": {
      "text/plain": [
       "[]"
      ]
     },
     "execution_count": 63,
     "metadata": {},
     "output_type": "execute_result"
    }
   ],
   "source": [
    "outlier_pt"
   ]
  },
  {
   "cell_type": "code",
   "execution_count": 64,
   "id": "0e73ed37",
   "metadata": {},
   "outputs": [
    {
     "data": {
      "text/html": [
       "<style>#sk-container-id-4 {color: black;background-color: white;}#sk-container-id-4 pre{padding: 0;}#sk-container-id-4 div.sk-toggleable {background-color: white;}#sk-container-id-4 label.sk-toggleable__label {cursor: pointer;display: block;width: 100%;margin-bottom: 0;padding: 0.3em;box-sizing: border-box;text-align: center;}#sk-container-id-4 label.sk-toggleable__label-arrow:before {content: \"▸\";float: left;margin-right: 0.25em;color: #696969;}#sk-container-id-4 label.sk-toggleable__label-arrow:hover:before {color: black;}#sk-container-id-4 div.sk-estimator:hover label.sk-toggleable__label-arrow:before {color: black;}#sk-container-id-4 div.sk-toggleable__content {max-height: 0;max-width: 0;overflow: hidden;text-align: left;background-color: #f0f8ff;}#sk-container-id-4 div.sk-toggleable__content pre {margin: 0.2em;color: black;border-radius: 0.25em;background-color: #f0f8ff;}#sk-container-id-4 input.sk-toggleable__control:checked~div.sk-toggleable__content {max-height: 200px;max-width: 100%;overflow: auto;}#sk-container-id-4 input.sk-toggleable__control:checked~label.sk-toggleable__label-arrow:before {content: \"▾\";}#sk-container-id-4 div.sk-estimator input.sk-toggleable__control:checked~label.sk-toggleable__label {background-color: #d4ebff;}#sk-container-id-4 div.sk-label input.sk-toggleable__control:checked~label.sk-toggleable__label {background-color: #d4ebff;}#sk-container-id-4 input.sk-hidden--visually {border: 0;clip: rect(1px 1px 1px 1px);clip: rect(1px, 1px, 1px, 1px);height: 1px;margin: -1px;overflow: hidden;padding: 0;position: absolute;width: 1px;}#sk-container-id-4 div.sk-estimator {font-family: monospace;background-color: #f0f8ff;border: 1px dotted black;border-radius: 0.25em;box-sizing: border-box;margin-bottom: 0.5em;}#sk-container-id-4 div.sk-estimator:hover {background-color: #d4ebff;}#sk-container-id-4 div.sk-parallel-item::after {content: \"\";width: 100%;border-bottom: 1px solid gray;flex-grow: 1;}#sk-container-id-4 div.sk-label:hover label.sk-toggleable__label {background-color: #d4ebff;}#sk-container-id-4 div.sk-serial::before {content: \"\";position: absolute;border-left: 1px solid gray;box-sizing: border-box;top: 0;bottom: 0;left: 50%;z-index: 0;}#sk-container-id-4 div.sk-serial {display: flex;flex-direction: column;align-items: center;background-color: white;padding-right: 0.2em;padding-left: 0.2em;position: relative;}#sk-container-id-4 div.sk-item {position: relative;z-index: 1;}#sk-container-id-4 div.sk-parallel {display: flex;align-items: stretch;justify-content: center;background-color: white;position: relative;}#sk-container-id-4 div.sk-item::before, #sk-container-id-4 div.sk-parallel-item::before {content: \"\";position: absolute;border-left: 1px solid gray;box-sizing: border-box;top: 0;bottom: 0;left: 50%;z-index: -1;}#sk-container-id-4 div.sk-parallel-item {display: flex;flex-direction: column;z-index: 1;position: relative;background-color: white;}#sk-container-id-4 div.sk-parallel-item:first-child::after {align-self: flex-end;width: 50%;}#sk-container-id-4 div.sk-parallel-item:last-child::after {align-self: flex-start;width: 50%;}#sk-container-id-4 div.sk-parallel-item:only-child::after {width: 0;}#sk-container-id-4 div.sk-dashed-wrapped {border: 1px dashed gray;margin: 0 0.4em 0.5em 0.4em;box-sizing: border-box;padding-bottom: 0.4em;background-color: white;}#sk-container-id-4 div.sk-label label {font-family: monospace;font-weight: bold;display: inline-block;line-height: 1.2em;}#sk-container-id-4 div.sk-label-container {text-align: center;}#sk-container-id-4 div.sk-container {/* jupyter's `normalize.less` sets `[hidden] { display: none; }` but bootstrap.min.css set `[hidden] { display: none !important; }` so we also need the `!important` here to be able to override the default hidden behavior on the sphinx rendered scikit-learn.org. See: https://github.com/scikit-learn/scikit-learn/issues/21755 */display: inline-block !important;position: relative;}#sk-container-id-4 div.sk-text-repr-fallback {display: none;}</style><div id=\"sk-container-id-4\" class=\"sk-top-container\"><div class=\"sk-text-repr-fallback\"><pre>DecisionTreeRegressor(criterion=&#x27;entropy&#x27;, max_depth=3, random_state=0)</pre><b>In a Jupyter environment, please rerun this cell to show the HTML representation or trust the notebook. <br />On GitHub, the HTML representation is unable to render, please try loading this page with nbviewer.org.</b></div><div class=\"sk-container\" hidden><div class=\"sk-item\"><div class=\"sk-estimator sk-toggleable\"><input class=\"sk-toggleable__control sk-hidden--visually\" id=\"sk-estimator-id-4\" type=\"checkbox\" checked><label for=\"sk-estimator-id-4\" class=\"sk-toggleable__label sk-toggleable__label-arrow\">DecisionTreeRegressor</label><div class=\"sk-toggleable__content\"><pre>DecisionTreeRegressor(criterion=&#x27;entropy&#x27;, max_depth=3, random_state=0)</pre></div></div></div></div></div>"
      ],
      "text/plain": [
       "DecisionTreeRegressor(criterion='entropy', max_depth=3, random_state=0)"
      ]
     },
     "execution_count": 64,
     "metadata": {},
     "output_type": "execute_result"
    }
   ],
   "source": [
    "DecisionTreeRegressor(criterion='entropy',max_depth=3,random_state=0)"
   ]
  },
  {
   "cell_type": "code",
   "execution_count": 70,
   "id": "05297788",
   "metadata": {},
   "outputs": [
    {
     "name": "stdout",
     "output_type": "stream",
     "text": [
      "Root Mean Square Error:\n",
      "\n",
      "81.85831681907497\n"
     ]
    }
   ],
   "source": [
    "from sklearn.metrics import mean_squared_error\n",
    "import math\n",
    "MSE = mean_squared_error(X1, y)\n",
    "RMSE = math.sqrt(MSE)\n",
    "print(\"Root Mean Square Error:\\n\")\n",
    "print(RMSE)"
   ]
  },
  {
   "cell_type": "code",
   "execution_count": 76,
   "id": "a63012e7",
   "metadata": {},
   "outputs": [],
   "source": [
    "#feature scaling\n",
    "from sklearn.preprocessing import StandardScaler\n",
    "sc_X1 = StandardScaler()\n",
    "X1_train = sc_X1.fit_transform(X1_train)\n",
    "X1_test = sc_X1.transform(X1_test)"
   ]
  },
  {
   "cell_type": "code",
   "execution_count": 77,
   "id": "3e7d3271",
   "metadata": {},
   "outputs": [
    {
     "data": {
      "text/plain": [
       "array([33.09199305])"
      ]
     },
     "execution_count": 77,
     "metadata": {},
     "output_type": "execute_result"
    }
   ],
   "source": [
    "from sklearn.linear_model import LinearRegression\n",
    "lr = LinearRegression()\n",
    "lr.fit(X1_train, y_train)\n",
    "y_hat_train = lr.predict(X1_train)\n",
    "lr.coef_"
   ]
  },
  {
   "cell_type": "code",
   "execution_count": 78,
   "id": "be1441bb",
   "metadata": {},
   "outputs": [
    {
     "name": "stdout",
     "output_type": "stream",
     "text": [
      "r^2: 0.24272895002499317\n",
      "rmse: 58.45044379413215\n"
     ]
    }
   ],
   "source": [
    "from sklearn.metrics import r2_score, mean_squared_error\n",
    "print(f\"r^2: {r2_score(y_train, y_hat_train)}\")\n",
    "print(f\"rmse: {np.sqrt(mean_squared_error(y_train, y_hat_train))}\")"
   ]
  },
  {
   "cell_type": "code",
   "execution_count": null,
   "id": "d04c4521",
   "metadata": {},
   "outputs": [],
   "source": []
  }
 ],
 "metadata": {
  "kernelspec": {
   "display_name": "Python 3 (ipykernel)",
   "language": "python",
   "name": "python3"
  },
  "language_info": {
   "codemirror_mode": {
    "name": "ipython",
    "version": 3
   },
   "file_extension": ".py",
   "mimetype": "text/x-python",
   "name": "python",
   "nbconvert_exporter": "python",
   "pygments_lexer": "ipython3",
   "version": "3.9.7"
  }
 },
 "nbformat": 4,
 "nbformat_minor": 5
}
